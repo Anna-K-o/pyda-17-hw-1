{
 "cells": [
  {
   "cell_type": "code",
   "execution_count": 2,
   "metadata": {},
   "outputs": [
    {
     "name": "stdout",
     "output_type": "stream",
     "text": [
      "Введите первую фразу: Язык программирования Python\n",
      "Введите вторую фразу: Язык программирования R\n",
      "Фраза 1 длиннее фразы 2\n"
     ]
    }
   ],
   "source": [
    "phrase_1=input('Введите первую фразу: ') \n",
    "phrase_2=input('Введите вторую фразу: ') \n",
    "if len(phrase_1)>len(phrase_2):\n",
    "    print(\"Фраза 1 длиннее фразы 2\")\n",
    "elif len(phrase_2)>len(phrase_1):\n",
    "    print(\"Фраза 2 длиннее фразы 1\")\n",
    "else:\n",
    "    print(\"Фраза 2 равна фразе 1\")"
   ]
  },
  {
   "cell_type": "code",
   "execution_count": 10,
   "metadata": {},
   "outputs": [
    {
     "name": "stdout",
     "output_type": "stream",
     "text": [
      "Введите год: 2020\n",
      "Високосный год\n"
     ]
    }
   ],
   "source": [
    "year=int(input('Введите год: '))\n",
    "if (year%4!=0):\n",
    "    print(\"Обычный год\")\n",
    "elif (year%100==0) and (year%400!=0):\n",
    "    print(\"Обычный год\")\n",
    "else:\n",
    "    print(\"Високосный год\")"
   ]
  },
  {
   "cell_type": "code",
   "execution_count": 9,
   "metadata": {},
   "outputs": [
    {
     "name": "stdout",
     "output_type": "stream",
     "text": [
      "Введите день своего рождения: 18\n",
      "Введите месяц своего рождения: сентябрь\n",
      "Ваш знак зодиака: Дева\n"
     ]
    }
   ],
   "source": [
    "day = int(input('Введите день своего рождения: '))\n",
    "month = input('Введите месяц своего рождения: ')\n",
    "if month==\"январь\":\n",
    "    month_1=1\n",
    "if month==\"февраль\":\n",
    "    month_1=2\n",
    "if month==\"март\":\n",
    "    month_1=3\n",
    "if month==\"апрель\":\n",
    "    month_1=4\n",
    "if month==\"май\":\n",
    "    month_1=5\n",
    "if month==\"июнь\":\n",
    "    month_1=6\n",
    "if month==\"июль\":\n",
    "    month_1=7\n",
    "if month==\"август\":\n",
    "    month_1=8\n",
    "if month==\"сентябрь\":\n",
    "    month_1=9\n",
    "if month==\"октябрь\":\n",
    "    month_1=10\n",
    "if month==\"ноябрь\":\n",
    "    month_1=11\n",
    "if month==\"декабрь\":\n",
    "    month_1=11\n",
    "if ((day>=23) and (month_1==12)) or ((day<=20) and (month_1==1)):\n",
    "    print(\"Ваш знак зодиака: Козерог\")\n",
    "if ((day>=21) and (month_1==1)) or ((day<=19) and (month_1==2)):\n",
    "    print(\"Ваш знак зодиака: Водолей\")\n",
    "if ((day>=20) and (month_1==2)) or ((day<=20) and (month_1==3)):\n",
    "    print(\"Ваш знак зодиака: Рыбы\")\n",
    "if ((day>=21) and (month_1==3)) or ((day<=20) and (month_1==4)):\n",
    "    print(\"Ваш знак зодиака: Овен\")\n",
    "if ((day>=21) and (month_1==4)) or ((day<=21) and (month_1==5)):\n",
    "    print(\"Ваш знак зодиака: Телец\")\n",
    "if ((day>=22) and (month_1==5)) or ((day<=21) and (month_1==6)):\n",
    "    print(\"Ваш знак зодиака: Близнецы\")\n",
    "if ((day>=22) and (month_1==6)) or ((day<=22) and (month_1==7)):\n",
    "    print(\"Ваш знак зодиака: Рак\")\n",
    "if ((day>=23) and (month_1==7)) or ((day<=21) and (month_1==8)):\n",
    "    print(\"Ваш знак зодиака: Лев\")\n",
    "if ((day>=22) and (month_1==8)) or ((day<=23) and (month_1==9)):\n",
    "    print(\"Ваш знак зодиака: Дева\")\n",
    "if ((day>=24) and (month_1==9)) or ((day<=23) and (month_1==10)):\n",
    "    print(\"Ваш знак зодиака: Весы\")\n",
    "if ((day>=24) and (month_1==10)) or ((day<=22) and (month_1==11)):\n",
    "    print(\"Ваш знак зодиака: Скорпион\")\n",
    "if ((day>=23) and (month_1==11)) or ((day<=22) and (month_1==12)):\n",
    "    print(\"Ваш знак зодиака: Стрелец\")\n"
   ]
  },
  {
   "cell_type": "code",
   "execution_count": 6,
   "metadata": {},
   "outputs": [
    {
     "name": "stdout",
     "output_type": "stream",
     "text": [
      "Введите ширину товара в сантимерах 60\n",
      "Введите длину товара в сантиметрах 200\n",
      "Введите высоту товара в сантиметрах 15\n",
      "Стандартная коробка №3\n"
     ]
    }
   ],
   "source": [
    "width = int(input('Введите ширину товара в сантимерах '))\n",
    "length = int(input('Введите длину товара в сантиметрах '))\n",
    "height = int(input('Введите высоту товара в сантиметрах '))\n",
    "if (width<=15) and (length<=15) and (height<=15):\n",
    "    print(\"Коробка №1\")\n",
    "elif ((width>15) and (width<=50)) or ((length>15) and (length<=50)) or ((height>15) and (height<=50)):\n",
    "    print(\"Коробка №2\")\n",
    "elif (length>200):\n",
    "    print(\"Упаковка для лыж\")\n",
    "else:\n",
    "    print(\"Стандартная коробка №3\")\n"
   ]
  }
 ],
 "metadata": {
  "kernelspec": {
   "display_name": "Python 3",
   "language": "python",
   "name": "python3"
  },
  "language_info": {
   "codemirror_mode": {
    "name": "ipython",
    "version": 3
   },
   "file_extension": ".py",
   "mimetype": "text/x-python",
   "name": "python",
   "nbconvert_exporter": "python",
   "pygments_lexer": "ipython3",
   "version": "3.8.5"
  }
 },
 "nbformat": 4,
 "nbformat_minor": 4
}
